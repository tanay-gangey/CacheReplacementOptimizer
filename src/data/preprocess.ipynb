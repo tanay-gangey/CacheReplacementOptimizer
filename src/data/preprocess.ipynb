{
  "nbformat": 4,
  "nbformat_minor": 0,
  "metadata": {
    "colab": {
      "name": "preprocess.ipynb",
      "provenance": [],
      "collapsed_sections": [],
      "machine_shape": "hm"
    },
    "kernelspec": {
      "name": "python3",
      "display_name": "Python 3"
    }
  },
  "cells": [
    {
      "cell_type": "code",
      "metadata": {
        "id": "Et1BKP71trjo",
        "colab_type": "code",
        "outputId": "3a0431ac-ac9c-46c7-9036-624422808ce5",
        "colab": {
          "base_uri": "https://localhost:8080/",
          "height": 34
        }
      },
      "source": [
        "import pandas as pd\n",
        "import numpy as np\n",
        "import keras\n",
        "from sklearn.model_selection import train_test_split\n",
        "from sklearn.preprocessing import minmax_scale"
      ],
      "execution_count": 0,
      "outputs": [
        {
          "output_type": "stream",
          "text": [
            "Using TensorFlow backend.\n"
          ],
          "name": "stderr"
        }
      ]
    },
    {
      "cell_type": "markdown",
      "metadata": {
        "id": "7AJPTcmWuXXn",
        "colab_type": "text"
      },
      "source": [
        ""
      ]
    },
    {
      "cell_type": "code",
      "metadata": {
        "id": "ZYGyxPlOuY1g",
        "colab_type": "code",
        "outputId": "7f38da78-41b5-4725-c872-37ceb55ad4a3",
        "colab": {
          "base_uri": "https://localhost:8080/",
          "height": 204
        }
      },
      "source": [
        "df = pd.read_csv(\"/content/drive/My Drive/Other/blkIO.txt\", sep=' ',header = None)\n",
        "df.columns = ['timestamp','pid','pname','blockNo', 'blockSize', 'readOrWrite', 'bdMajor', 'bdMinor', 'hash']\n",
        "df.head()"
      ],
      "execution_count": 0,
      "outputs": [
        {
          "output_type": "execute_result",
          "data": {
            "text/html": [
              "<div>\n",
              "<style scoped>\n",
              "    .dataframe tbody tr th:only-of-type {\n",
              "        vertical-align: middle;\n",
              "    }\n",
              "\n",
              "    .dataframe tbody tr th {\n",
              "        vertical-align: top;\n",
              "    }\n",
              "\n",
              "    .dataframe thead th {\n",
              "        text-align: right;\n",
              "    }\n",
              "</style>\n",
              "<table border=\"1\" class=\"dataframe\">\n",
              "  <thead>\n",
              "    <tr style=\"text-align: right;\">\n",
              "      <th></th>\n",
              "      <th>timestamp</th>\n",
              "      <th>pid</th>\n",
              "      <th>pname</th>\n",
              "      <th>blockNo</th>\n",
              "      <th>blockSize</th>\n",
              "      <th>readOrWrite</th>\n",
              "      <th>bdMajor</th>\n",
              "      <th>bdMinor</th>\n",
              "      <th>hash</th>\n",
              "    </tr>\n",
              "  </thead>\n",
              "  <tbody>\n",
              "    <tr>\n",
              "      <th>0</th>\n",
              "      <td>89966811921625</td>\n",
              "      <td>4257</td>\n",
              "      <td>nfsd</td>\n",
              "      <td>488846200</td>\n",
              "      <td>8.0</td>\n",
              "      <td>W</td>\n",
              "      <td>6.0</td>\n",
              "      <td>0.0</td>\n",
              "      <td>2c4787c7671c2f638777c4ab72859ce1</td>\n",
              "    </tr>\n",
              "    <tr>\n",
              "      <th>1</th>\n",
              "      <td>89967003980393</td>\n",
              "      <td>4253</td>\n",
              "      <td>nfsd</td>\n",
              "      <td>508455704</td>\n",
              "      <td>8.0</td>\n",
              "      <td>W</td>\n",
              "      <td>6.0</td>\n",
              "      <td>0.0</td>\n",
              "      <td>88b93b628d84082186026d9da044f173</td>\n",
              "    </tr>\n",
              "    <tr>\n",
              "      <th>2</th>\n",
              "      <td>89967004049935</td>\n",
              "      <td>4253</td>\n",
              "      <td>nfsd</td>\n",
              "      <td>508455712</td>\n",
              "      <td>8.0</td>\n",
              "      <td>W</td>\n",
              "      <td>6.0</td>\n",
              "      <td>0.0</td>\n",
              "      <td>b5e9f4e5ab62a4fff5313a606b0ad4e3</td>\n",
              "    </tr>\n",
              "    <tr>\n",
              "      <th>3</th>\n",
              "      <td>89967004093615</td>\n",
              "      <td>4253</td>\n",
              "      <td>nfsd</td>\n",
              "      <td>508455720</td>\n",
              "      <td>8.0</td>\n",
              "      <td>W</td>\n",
              "      <td>6.0</td>\n",
              "      <td>0.0</td>\n",
              "      <td>7af5556ad4d45263bcd8358867333dd4</td>\n",
              "    </tr>\n",
              "    <tr>\n",
              "      <th>4</th>\n",
              "      <td>89967324150054</td>\n",
              "      <td>4254</td>\n",
              "      <td>nfsd</td>\n",
              "      <td>508500288</td>\n",
              "      <td>8.0</td>\n",
              "      <td>W</td>\n",
              "      <td>6.0</td>\n",
              "      <td>0.0</td>\n",
              "      <td>88b93b628d84082186026d9da044f173</td>\n",
              "    </tr>\n",
              "  </tbody>\n",
              "</table>\n",
              "</div>"
            ],
            "text/plain": [
              "        timestamp   pid  ... bdMinor                              hash\n",
              "0  89966811921625  4257  ...     0.0  2c4787c7671c2f638777c4ab72859ce1\n",
              "1  89967003980393  4253  ...     0.0  88b93b628d84082186026d9da044f173\n",
              "2  89967004049935  4253  ...     0.0  b5e9f4e5ab62a4fff5313a606b0ad4e3\n",
              "3  89967004093615  4253  ...     0.0  7af5556ad4d45263bcd8358867333dd4\n",
              "4  89967324150054  4254  ...     0.0  88b93b628d84082186026d9da044f173\n",
              "\n",
              "[5 rows x 9 columns]"
            ]
          },
          "metadata": {
            "tags": []
          },
          "execution_count": 2
        }
      ]
    },
    {
      "cell_type": "code",
      "metadata": {
        "id": "ZLZ-N04swhPb",
        "colab_type": "code",
        "outputId": "1befad4d-3fc0-461c-97c9-0bc8febf36cb",
        "colab": {
          "base_uri": "https://localhost:8080/",
          "height": 204
        }
      },
      "source": [
        "df = df.drop(['pid', 'pname', 'blockSize', 'bdMajor', 'bdMinor', 'hash'], axis=1)\n",
        "df.head()"
      ],
      "execution_count": 0,
      "outputs": [
        {
          "output_type": "execute_result",
          "data": {
            "text/html": [
              "<div>\n",
              "<style scoped>\n",
              "    .dataframe tbody tr th:only-of-type {\n",
              "        vertical-align: middle;\n",
              "    }\n",
              "\n",
              "    .dataframe tbody tr th {\n",
              "        vertical-align: top;\n",
              "    }\n",
              "\n",
              "    .dataframe thead th {\n",
              "        text-align: right;\n",
              "    }\n",
              "</style>\n",
              "<table border=\"1\" class=\"dataframe\">\n",
              "  <thead>\n",
              "    <tr style=\"text-align: right;\">\n",
              "      <th></th>\n",
              "      <th>timestamp</th>\n",
              "      <th>blockNo</th>\n",
              "      <th>readOrWrite</th>\n",
              "    </tr>\n",
              "  </thead>\n",
              "  <tbody>\n",
              "    <tr>\n",
              "      <th>0</th>\n",
              "      <td>89966811921625</td>\n",
              "      <td>488846200</td>\n",
              "      <td>W</td>\n",
              "    </tr>\n",
              "    <tr>\n",
              "      <th>1</th>\n",
              "      <td>89967003980393</td>\n",
              "      <td>508455704</td>\n",
              "      <td>W</td>\n",
              "    </tr>\n",
              "    <tr>\n",
              "      <th>2</th>\n",
              "      <td>89967004049935</td>\n",
              "      <td>508455712</td>\n",
              "      <td>W</td>\n",
              "    </tr>\n",
              "    <tr>\n",
              "      <th>3</th>\n",
              "      <td>89967004093615</td>\n",
              "      <td>508455720</td>\n",
              "      <td>W</td>\n",
              "    </tr>\n",
              "    <tr>\n",
              "      <th>4</th>\n",
              "      <td>89967324150054</td>\n",
              "      <td>508500288</td>\n",
              "      <td>W</td>\n",
              "    </tr>\n",
              "  </tbody>\n",
              "</table>\n",
              "</div>"
            ],
            "text/plain": [
              "        timestamp    blockNo readOrWrite\n",
              "0  89966811921625  488846200           W\n",
              "1  89967003980393  508455704           W\n",
              "2  89967004049935  508455712           W\n",
              "3  89967004093615  508455720           W\n",
              "4  89967324150054  508500288           W"
            ]
          },
          "metadata": {
            "tags": []
          },
          "execution_count": 3
        }
      ]
    },
    {
      "cell_type": "code",
      "metadata": {
        "id": "cGkujUR2w8vl",
        "colab_type": "code",
        "outputId": "aedbd156-4e79-411e-8ed0-c743ddd25462",
        "colab": {
          "base_uri": "https://localhost:8080/",
          "height": 51
        }
      },
      "source": [
        "readsAndWrites=df['blockNo'].tolist()\n",
        "print(len(set(readsAndWrites)))\n",
        "\n",
        "readsAndWrites = minmax_scale(readsAndWrites, feature_range=(0, 1024))\n",
        "# readsAndWrites = keras.utils.normalize(readsAndWrites, axis= -1)[0]\n",
        "dataset = np.array(readsAndWrites)\n",
        "dataset.shape"
      ],
      "execution_count": 0,
      "outputs": [
        {
          "output_type": "stream",
          "text": [
            "671728\n"
          ],
          "name": "stdout"
        },
        {
          "output_type": "execute_result",
          "data": {
            "text/plain": [
              "(1322890,)"
            ]
          },
          "metadata": {
            "tags": []
          },
          "execution_count": 4
        }
      ]
    },
    {
      "cell_type": "code",
      "metadata": {
        "id": "wi-jhbMp4WW_",
        "colab_type": "code",
        "colab": {}
      },
      "source": [
        "def split(data, size):\n",
        "    sequences, y = list(), list()\n",
        "    for i in range(len(data)):\n",
        "        end = i + size\n",
        "        if end >= len(data):\n",
        "            break\n",
        "        sequences.append(data[i:end-1])\n",
        "        y.append(data[end-1])\n",
        "    return np.array(sequences), np.array(y)"
      ],
      "execution_count": 0,
      "outputs": []
    },
    {
      "cell_type": "code",
      "metadata": {
        "id": "7kuZnjEw4f2S",
        "colab_type": "code",
        "colab": {}
      },
      "source": [
        "x, y = split(dataset[:int(0.5*len(dataset))], 1000)\n"
      ],
      "execution_count": 0,
      "outputs": []
    },
    {
      "cell_type": "code",
      "metadata": {
        "id": "Wt-JmEZ55o8n",
        "colab_type": "code",
        "outputId": "7f4527d0-2c6b-4d3f-9a18-5fb806146fca",
        "colab": {
          "base_uri": "https://localhost:8080/",
          "height": 238
        }
      },
      "source": [
        "x_train, x_test, y_train, y_test = train_test_split(x, y, test_size=0.3, random_state=None, shuffle=True)\n",
        "\n",
        "print(x_train[:10])\n"
      ],
      "execution_count": 0,
      "outputs": [
        {
          "output_type": "stream",
          "text": [
            "[[505.02917892 505.02919302 505.02920712 ... 505.05575038 505.05576448\n",
            "  505.05577857]\n",
            " [253.94071555 253.94072964 253.94074374 ... 254.01933041 254.01934451\n",
            "  254.0193586 ]\n",
            " [224.98058943 224.98060353 224.98061762 ... 224.99447425 224.99448835\n",
            "  224.99450244]\n",
            " ...\n",
            " [254.59207572 254.59207572 254.59208981 ... 256.01729259 256.01729259\n",
            "  256.01730669]\n",
            " [207.65036045 207.65037455 207.65038864 ... 209.8050308  209.8050449\n",
            "  209.80505899]\n",
            " [487.91536988 487.91538398 487.91539808 ... 487.92969169 487.92970579\n",
            "  487.92971988]]\n"
          ],
          "name": "stdout"
        }
      ]
    },
    {
      "cell_type": "code",
      "metadata": {
        "id": "d4FRiKQz58WT",
        "colab_type": "code",
        "colab": {}
      },
      "source": [
        "np.save(\"/content/drive/My Drive/Other/sequences_data\", np.array([x_train, x_test]))\n",
        "np.save(\"/content/drive/My Drive/Other/label_data\", np.array([y_train, y_test]))"
      ],
      "execution_count": 0,
      "outputs": []
    }
  ]
}